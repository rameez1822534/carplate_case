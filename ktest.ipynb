{
 "cells": [
  {
   "cell_type": "code",
   "execution_count": 15,
   "metadata": {},
   "outputs": [
    {
     "name": "stdout",
     "output_type": "stream",
     "text": [
      "Images generated and saved.\n"
     ]
    }
   ],
   "source": [
    "import matplotlib.pyplot as plt\n",
    "import os\n",
    "import random\n",
    "\n",
    "banned_words = ['APA','ARG','ASS','BAJ','BSS','CUC','CUK','DUM','ETA','ETT','FAG','FAN','FEG','FEL','FEM','FES',\\\n",
    "                'FET','FNL','FUC','FUK','FUL','GAM','GAY','GEJ','GEY','GHB','GUD','GYN','HAT','HBT','HKH','HOR',\\\n",
    "                'HOT','KGB','KKK','KUC','KUF','KUG','KUK','KYK','LAM','LAT','LEM','LOJ','LSD','LUS','MAD','MAO',\\\n",
    "                'MEN','MES','MLB','MUS','NAZ','NRP','NSF','NYP','OND','OOO','ORM','PAJ','PKK','PLO','PMS','PUB',\\\n",
    "                'RAP','RAS','ROM','RPS','RUS','SEG','SEX','SJU','SOS','SPY','SUG','SUP','SUR','TBC','TOA','TOK',\\\n",
    "                'TRE','TYP','UFO','USA','WAM','WAR','WWW','XTC','XTZ','XXL','XXX','ZEX','ZOG','ZPY','ZUG','ZUP','ZOO']\n",
    "\n",
    "def generate_images_and_save(characters_list, num_images_per_category, output_directory):\n",
    "    # Create the output directory if it doesn't exist\n",
    "    if not os.path.exists(output_directory):\n",
    "        os.makedirs(output_directory)\n",
    "\n",
    "    for random_plate in characters_list:\n",
    "        # Get the first character to determine the folder name\n",
    "        first_character = random_plate[0]\n",
    "\n",
    "        # Create a folder for the category if it doesn't exist\n",
    "        category_directory = os.path.join(output_directory, first_character)\n",
    "        if not os.path.exists(category_directory):\n",
    "            os.makedirs(category_directory)\n",
    "\n",
    "        for _ in range(num_images_per_category):\n",
    "            # Create an image with the registration plate\n",
    "            diagram_image = plt.imread(\"empty_sign.png\")\n",
    "            plt.text(x=80, y=105, s=random_plate, fontsize=70)\n",
    "\n",
    "            # Save the image to the category folder\n",
    "            image_filename = f\"{random_plate}.png\"\n",
    "            image_path = os.path.join(category_directory, image_filename)\n",
    "            plt.imshow(diagram_image)\n",
    "            plt.savefig(image_path)\n",
    "            plt.close()\n",
    "\n",
    "# Example usage:\n",
    "characters_list = banned_words\n",
    "num_images_per_category = 10\n",
    "output_directory = \"registration_images\"\n",
    "\n",
    "generate_images_and_save(characters_list, num_images_per_category, output_directory)\n",
    "\n",
    "print(\"Images generated and saved.\")\n"
   ]
  }
 ],
 "metadata": {
  "kernelspec": {
   "display_name": "Python 3",
   "language": "python",
   "name": "python3"
  },
  "language_info": {
   "codemirror_mode": {
    "name": "ipython",
    "version": 3
   },
   "file_extension": ".py",
   "mimetype": "text/x-python",
   "name": "python",
   "nbconvert_exporter": "python",
   "pygments_lexer": "ipython3",
   "version": "3.11.4"
  }
 },
 "nbformat": 4,
 "nbformat_minor": 2
}
