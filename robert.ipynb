{
 "cells": [
  {
   "cell_type": "code",
   "execution_count": 1,
   "metadata": {},
   "outputs": [],
   "source": [
    "import pandas as pd\n",
    "import numpy as np\n",
    "from PIL import Image"
   ]
  },
  {
   "cell_type": "code",
   "execution_count": 2,
   "metadata": {},
   "outputs": [],
   "source": [
    "\n",
    "\n",
    "# # Open the image\n",
    "# image = Image.open(\"registration_images/J/JJJ 072.png\")  # Replace with the path to your image\n",
    "\n",
    "# # Define the coordinates of the region you want to crop (left, upper, right, lower)\n",
    "# crop_box = (145, 210, 205, 280)  # Example coordinates, adjust them as needed\n",
    "\n",
    "# # Crop the region from the image\n",
    "# cropped_image = image.crop(crop_box)\n",
    "\n",
    "# # Save the cropped image\n",
    "# # cropped_image.save(\"cropped_image.png\")\n"
   ]
  },
  {
   "cell_type": "code",
   "execution_count": 3,
   "metadata": {},
   "outputs": [],
   "source": [
    "# type(cropped_image)"
   ]
  },
  {
   "cell_type": "code",
   "execution_count": 4,
   "metadata": {},
   "outputs": [],
   "source": [
    "# image = np.array(cropped_image)\n",
    "# image2 = image.flatten()\n",
    "# image2 "
   ]
  },
  {
   "cell_type": "code",
   "execution_count": 5,
   "metadata": {},
   "outputs": [],
   "source": [
    "# df = pd.DataFrame([image2])\n",
    "# df.head()"
   ]
  },
  {
   "cell_type": "code",
   "execution_count": 6,
   "metadata": {},
   "outputs": [],
   "source": [
    "# df['Label'] = 'J'"
   ]
  },
  {
   "cell_type": "code",
   "execution_count": 7,
   "metadata": {},
   "outputs": [],
   "source": [
    "# unique_values = df.iloc[0][:].unique()\n",
    "\n",
    "# unique_values.size"
   ]
  },
  {
   "cell_type": "code",
   "execution_count": 8,
   "metadata": {},
   "outputs": [],
   "source": [
    "# df.head()"
   ]
  },
  {
   "cell_type": "code",
   "execution_count": 9,
   "metadata": {},
   "outputs": [],
   "source": [
    "# import os"
   ]
  },
  {
   "cell_type": "code",
   "execution_count": 10,
   "metadata": {},
   "outputs": [],
   "source": [
    "\n",
    "# from PIL import Image\n",
    "# import numpy as np\n",
    "# import pandas as pd\n",
    "\n",
    "# CURR_DIR_PATH = os.path.dirname(os.path.realpath(__file__))\n",
    "# output_directory = (CURR_DIR_PATH + '\\\\registration_images')\n",
    "# all_images_df = pd.DataFrame()\n",
    "# for root, _, files in os.walk(output_directory):\n",
    "#     for filename in files:\n",
    "#         file_path = os.path.join(root, filename)\n",
    "#         # Open the image\n",
    "#         image = Image.open(file_path)\n",
    "#         # Define the coordinates of the region you want to crop (left, upper, right, lower)\n",
    "#         crop_box = (145, 210, 205, 280)  # Example coordinates, adjust them as needed\n",
    "\n",
    "#         # Crop the region from the image\n",
    "#         cropped_image = image.crop(crop_box)\n",
    "#         # cropped_image.show()\n",
    "#         # Create an array and save a dataframe\n",
    "#         image = np.array(cropped_image)\n",
    "#         image2 = image.flatten()\n",
    "\n",
    "#         df = pd.DataFrame([image2])\n",
    "#         # Add label\n",
    "#         df['Label'] = root[-1]\n",
    "        \n",
    "        \n",
    "#         all_images_df = all_images_df.append(df, ignore_index=True)"
   ]
  },
  {
   "cell_type": "code",
   "execution_count": null,
   "metadata": {},
   "outputs": [],
   "source": [
    "import pickle\n",
    "with open(\"1000_model.pkl\", 'rb') as file:\n",
    "    loaded_model = pickle.load(file)"
   ]
  },
  {
   "cell_type": "code",
   "execution_count": null,
   "metadata": {},
   "outputs": [],
   "source": []
  },
  {
   "cell_type": "code",
   "execution_count": null,
   "metadata": {},
   "outputs": [],
   "source": []
  },
  {
   "cell_type": "code",
   "execution_count": null,
   "metadata": {},
   "outputs": [],
   "source": []
  },
  {
   "cell_type": "code",
   "execution_count": null,
   "metadata": {},
   "outputs": [],
   "source": []
  },
  {
   "cell_type": "code",
   "execution_count": null,
   "metadata": {},
   "outputs": [],
   "source": []
  },
  {
   "cell_type": "code",
   "execution_count": null,
   "metadata": {},
   "outputs": [],
   "source": []
  },
  {
   "cell_type": "code",
   "execution_count": null,
   "metadata": {},
   "outputs": [],
   "source": []
  },
  {
   "cell_type": "code",
   "execution_count": null,
   "metadata": {},
   "outputs": [],
   "source": []
  },
  {
   "cell_type": "code",
   "execution_count": null,
   "metadata": {},
   "outputs": [],
   "source": []
  },
  {
   "cell_type": "code",
   "execution_count": null,
   "metadata": {},
   "outputs": [],
   "source": []
  },
  {
   "cell_type": "code",
   "execution_count": null,
   "metadata": {},
   "outputs": [],
   "source": []
  },
  {
   "cell_type": "code",
   "execution_count": null,
   "metadata": {},
   "outputs": [],
   "source": []
  },
  {
   "cell_type": "code",
   "execution_count": null,
   "metadata": {},
   "outputs": [],
   "source": []
  },
  {
   "cell_type": "code",
   "execution_count": null,
   "metadata": {},
   "outputs": [],
   "source": []
  },
  {
   "cell_type": "code",
   "execution_count": null,
   "metadata": {},
   "outputs": [],
   "source": []
  },
  {
   "cell_type": "code",
   "execution_count": null,
   "metadata": {},
   "outputs": [],
   "source": []
  },
  {
   "cell_type": "code",
   "execution_count": null,
   "metadata": {},
   "outputs": [],
   "source": []
  }
 ],
 "metadata": {
  "kernelspec": {
   "display_name": "Python 3",
   "language": "python",
   "name": "python3"
  },
  "language_info": {
   "codemirror_mode": {
    "name": "ipython",
    "version": 3
   },
   "file_extension": ".py",
   "mimetype": "text/x-python",
   "name": "python",
   "nbconvert_exporter": "python",
   "pygments_lexer": "ipython3",
   "version": "3.9.7"
  }
 },
 "nbformat": 4,
 "nbformat_minor": 2
}
